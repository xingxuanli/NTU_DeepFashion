{
 "cells": [
  {
   "cell_type": "code",
   "execution_count": 1,
   "id": "5fc72dc6",
   "metadata": {},
   "outputs": [
    {
     "data": {
      "text/html": [
       "<style>#notebook { padding-top:0px !important; } .container { width:100% !important; } .end_space { min-height:0px !important; } </style>"
      ],
      "text/plain": [
       "<IPython.core.display.HTML object>"
      ]
     },
     "metadata": {},
     "output_type": "display_data"
    }
   ],
   "source": [
    "from IPython.core.display import display, HTML\n",
    "display(HTML(\n",
    "    '<style>'\n",
    "        '#notebook { padding-top:0px !important; } ' \n",
    "        '.container { width:100% !important; } '\n",
    "        '.end_space { min-height:0px !important; } '\n",
    "    '</style>'\n",
    "))"
   ]
  },
  {
   "cell_type": "code",
   "execution_count": 2,
   "id": "e3440c36",
   "metadata": {},
   "outputs": [],
   "source": [
    "import os\n",
    "import numpy as np\n",
    "from PIL import Image\n",
    "from tqdm.notebook import tqdm\n",
    "from torch.utils.data import Dataset, DataLoader\n",
    "\n",
    "import torch\n",
    "import torch.nn as nn\n",
    "import torch.nn.functional as F\n",
    "import torchvision.models as models\n",
    "import torchvision.transforms as transforms\n",
    "\n",
    "class FashionDataset(Dataset):\n",
    "    def __init__(self, img_path='FashionDataset/', \n",
    "                 split_path='FashionDataset/split/', \n",
    "                 transform=None, flag=None):\n",
    "\n",
    "        super().__init__()\n",
    "        \n",
    "        self.data = []\n",
    "        self.labels = []\n",
    "        self.transform = transform\n",
    "        \n",
    "        if flag == 'train':\n",
    "            X_path = os.path.join(split_path, 'train.txt')\n",
    "            X_files = open(X_path).read().split('\\n')\n",
    "            y_path = os.path.join(split_path, 'train_attr.txt')\n",
    "            y_files = open(y_path).read().split('\\n')\n",
    "            \n",
    "        if flag == 'val':\n",
    "            X_path = os.path.join(split_path, 'val.txt')\n",
    "            X_files = open(X_path).read().split('\\n')\n",
    "            y_path = os.path.join(split_path, 'val_attr.txt')\n",
    "            y_files = open(y_path).read().split('\\n')\n",
    "            \n",
    "        for i in range(len(X_files)):\n",
    "            # images path\n",
    "            self.data.append(os.path.join(img_path, X_files[i]))\n",
    "\n",
    "            # labels\n",
    "            tmp_labels = y_files[i].split(' ')\n",
    "            self.labels.append({\n",
    "                'cat1': int(tmp_labels[0]),\n",
    "                'cat2': int(tmp_labels[1]),\n",
    "                'cat3': int(tmp_labels[2]),\n",
    "                'cat4': int(tmp_labels[3]),\n",
    "                'cat5': int(tmp_labels[4]),\n",
    "                'cat6': int(tmp_labels[5])\n",
    "            })\n",
    "            \n",
    "    def __getitem__(self, idx):\n",
    "        # read image\n",
    "        img_path = self.data[idx]\n",
    "        img = Image.open(img_path)\n",
    "        \n",
    "        # check if transform\n",
    "        if self.transform:\n",
    "            img = self.transform(img)\n",
    "            \n",
    "        opt_data = {\n",
    "            'img': img,\n",
    "            'labels': self.labels[idx]\n",
    "        }\n",
    "        return opt_data\n",
    "    \n",
    "    def __len__(self):\n",
    "        return len(self.data)"
   ]
  },
  {
   "cell_type": "code",
   "execution_count": 3,
   "id": "6971d15a",
   "metadata": {},
   "outputs": [],
   "source": [
    "class MultiLabelModel(nn.Module):\n",
    "    def __init__(self, n_classes=[7, 3, 3, 4, 6, 3]):\n",
    "        super().__init__()\n",
    "        # pretrained resnet50 as base model\n",
    "        self.resnet50 = models.resnet50(pretrained=True)\n",
    "        \n",
    "        # size of last channel before classifier\n",
    "        last_channel = models.resnet50().fc.out_features\n",
    "        \n",
    "        # create sequential layers for all 6 cats\n",
    "        self.cats = []\n",
    "        for i in range(len(n_classes)):\n",
    "            tmp_cat = nn.Sequential(\n",
    "                nn.Dropout(0.2),\n",
    "                nn.Linear(in_features=last_channel, out_features=n_classes[i])\n",
    "            )\n",
    "            self.cats.append(tmp_cat)\n",
    "            \n",
    "    def forward(self, x):\n",
    "        x = self.resnet50(x)\n",
    "        \n",
    "        opt = {\n",
    "            'cat1': self.cats[0](x),\n",
    "            'cat2': self.cats[1](x),\n",
    "            'cat3': self.cats[2](x),\n",
    "            'cat4': self.cats[3](x),\n",
    "            'cat5': self.cats[4](x),\n",
    "            'cat6': self.cats[5](x)\n",
    "        }\n",
    "        \n",
    "        return opt"
   ]
  },
  {
   "cell_type": "code",
   "execution_count": 4,
   "id": "e05dedfc",
   "metadata": {},
   "outputs": [],
   "source": [
    "def loss_function(nn_output, ground_truth):\n",
    "    sum_loss = 0\n",
    "    opt = {}\n",
    "    \n",
    "    for cat in nn_output:\n",
    "        tmp_loss = F.cross_entropy(nn_output[cat], ground_truth[cat])\n",
    "        opt[cat] = tmp_loss\n",
    "        sum_loss += tmp_loss\n",
    "        return sum_loss, opt"
   ]
  },
  {
   "cell_type": "code",
   "execution_count": null,
   "id": "978c830d",
   "metadata": {},
   "outputs": [],
   "source": []
  },
  {
   "cell_type": "code",
   "execution_count": null,
   "id": "08873881",
   "metadata": {},
   "outputs": [
    {
     "data": {
      "application/vnd.jupyter.widget-view+json": {
       "model_id": "560ed32cec104289b9521c9d0d5d9314",
       "version_major": 2,
       "version_minor": 0
      },
      "text/plain": [
       "  0%|          | 0/79 [00:00<?, ?it/s]"
      ]
     },
     "metadata": {},
     "output_type": "display_data"
    },
    {
     "name": "stderr",
     "output_type": "stream",
     "text": [
      "/Users/lixingxuan/opt/anaconda3/envs/pioneer37/lib/python3.7/site-packages/torch/nn/functional.py:718: UserWarning: Named tensors and all their associated APIs are an experimental feature and subject to change. Please do not use them for anything important until they are released as stable. (Triggered internally at  /Users/distiller/project/conda/conda-bld/pytorch_1623459064158/work/c10/core/TensorImpl.h:1156.)\n",
      "  return torch.max_pool2d(input, kernel_size, stride, padding, dilation, ceil_mode)\n"
     ]
    },
    {
     "name": "stdout",
     "output_type": "stream",
     "text": [
      "Epoch 0 loss 132.5657160282135\n"
     ]
    },
    {
     "data": {
      "application/vnd.jupyter.widget-view+json": {
       "model_id": "a5741aba8d4b4d3cbac61b5a2ebafcbe",
       "version_major": 2,
       "version_minor": 0
      },
      "text/plain": [
       "  0%|          | 0/79 [00:00<?, ?it/s]"
      ]
     },
     "metadata": {},
     "output_type": "display_data"
    }
   ],
   "source": [
    "device = torch.device('cpu')\n",
    "batch_size = 64\n",
    "num_workers = 0\n",
    "\n",
    "# train data\n",
    "flag = 'train'\n",
    "train_transform = transforms.Compose([\n",
    "    transforms.Resize(224),\n",
    "    transforms.CenterCrop(224),\n",
    "    transforms.ToTensor(),\n",
    "    transforms.Normalize([0.485, 0.456, 0.406], [0.229, 0.224, 0.225])\n",
    "])\n",
    "\n",
    "train_data = FashionDataset(transform = train_transform, flag=flag)\n",
    "train_dataloader = DataLoader(train_data, batch_size=batch_size, shuffle=True, num_workers=num_workers)\n",
    "\n",
    "model = MultiLabelModel()\n",
    "optimizer = torch.optim.Adam(model.parameters())\n",
    "\n",
    "model.train\n",
    "for epoch in range(100):\n",
    "    total_loss = 0\n",
    "    \n",
    "    for batch in tqdm(train_dataloader):\n",
    "        optimizer.zero_grad()\n",
    "        \n",
    "        img = batch['img']\n",
    "        ground_truth = batch['labels']\n",
    "        nn_output = model(img)\n",
    "        \n",
    "        loss, loss_each = loss_function(nn_output, ground_truth)\n",
    "        total_loss += loss.item()\n",
    "        \n",
    "        loss.backward()\n",
    "        optimizer.step()\n",
    "        \n",
    "    print('Epoch', epoch, 'loss', total_loss)"
   ]
  },
  {
   "cell_type": "code",
   "execution_count": 2,
   "id": "70f1838c",
   "metadata": {},
   "outputs": [
    {
     "data": {
      "application/vnd.jupyter.widget-view+json": {
       "model_id": "7a52e79367224dbd9c406b9d8687282e",
       "version_major": 2,
       "version_minor": 0
      },
      "text/plain": [
       "  0%|          | 0/3 [00:00<?, ?it/s]"
      ]
     },
     "metadata": {},
     "output_type": "display_data"
    },
    {
     "data": {
      "application/vnd.jupyter.widget-view+json": {
       "model_id": "",
       "version_major": 2,
       "version_minor": 0
      },
      "text/plain": [
       "  0%|          | 0/5 [00:00<?, ?it/s]"
      ]
     },
     "metadata": {},
     "output_type": "display_data"
    },
    {
     "data": {
      "application/vnd.jupyter.widget-view+json": {
       "model_id": "",
       "version_major": 2,
       "version_minor": 0
      },
      "text/plain": [
       "  0%|          | 0/5 [00:00<?, ?it/s]"
      ]
     },
     "metadata": {},
     "output_type": "display_data"
    },
    {
     "data": {
      "application/vnd.jupyter.widget-view+json": {
       "model_id": "15ba279b72004dd99e7e45b1ef4b94cc",
       "version_major": 2,
       "version_minor": 0
      },
      "text/plain": [
       "  0%|          | 0/5 [00:00<?, ?it/s]"
      ]
     },
     "metadata": {},
     "output_type": "display_data"
    },
    {
     "ename": "KeyboardInterrupt",
     "evalue": "",
     "output_type": "error",
     "traceback": [
      "\u001b[0;31m---------------------------------------------------------------------------\u001b[0m",
      "\u001b[0;31mKeyboardInterrupt\u001b[0m                         Traceback (most recent call last)",
      "\u001b[0;32m<ipython-input-2-1b07bb2d1296>\u001b[0m in \u001b[0;36m<module>\u001b[0;34m\u001b[0m\n\u001b[1;32m      4\u001b[0m \u001b[0;32mfor\u001b[0m \u001b[0mi\u001b[0m \u001b[0;32min\u001b[0m \u001b[0mtqdm\u001b[0m\u001b[0;34m(\u001b[0m\u001b[0mrange\u001b[0m\u001b[0;34m(\u001b[0m\u001b[0;36m3\u001b[0m\u001b[0;34m)\u001b[0m\u001b[0;34m)\u001b[0m\u001b[0;34m:\u001b[0m\u001b[0;34m\u001b[0m\u001b[0;34m\u001b[0m\u001b[0m\n\u001b[1;32m      5\u001b[0m     \u001b[0;32mfor\u001b[0m \u001b[0mj\u001b[0m \u001b[0;32min\u001b[0m \u001b[0mtqdm\u001b[0m\u001b[0;34m(\u001b[0m\u001b[0mrange\u001b[0m\u001b[0;34m(\u001b[0m\u001b[0;36m5\u001b[0m\u001b[0;34m)\u001b[0m\u001b[0;34m,\u001b[0m \u001b[0mleave\u001b[0m\u001b[0;34m=\u001b[0m\u001b[0mbool\u001b[0m\u001b[0;34m(\u001b[0m\u001b[0mi\u001b[0m \u001b[0;34m==\u001b[0m \u001b[0;36m2\u001b[0m\u001b[0;34m)\u001b[0m\u001b[0;34m)\u001b[0m\u001b[0;34m:\u001b[0m\u001b[0;34m\u001b[0m\u001b[0;34m\u001b[0m\u001b[0m\n\u001b[0;32m----> 6\u001b[0;31m         \u001b[0mtime\u001b[0m\u001b[0;34m.\u001b[0m\u001b[0msleep\u001b[0m\u001b[0;34m(\u001b[0m\u001b[0;36m1\u001b[0m\u001b[0;34m)\u001b[0m\u001b[0;34m\u001b[0m\u001b[0;34m\u001b[0m\u001b[0m\n\u001b[0m",
      "\u001b[0;31mKeyboardInterrupt\u001b[0m: "
     ]
    }
   ],
   "source": [
    "import time\n",
    "from tqdm.notebook import tqdm\n",
    "\n",
    "for i in tqdm(range(3)):\n",
    "    for j in tqdm(range(5), leave=bool(i == 2)):\n",
    "        time.sleep(1)"
   ]
  },
  {
   "cell_type": "code",
   "execution_count": null,
   "id": "6bde232e",
   "metadata": {},
   "outputs": [],
   "source": []
  },
  {
   "cell_type": "code",
   "execution_count": null,
   "id": "f505e5f2",
   "metadata": {},
   "outputs": [],
   "source": []
  },
  {
   "cell_type": "code",
   "execution_count": null,
   "id": "5bbb1ff3",
   "metadata": {},
   "outputs": [],
   "source": []
  },
  {
   "cell_type": "code",
   "execution_count": null,
   "id": "3b5168bd",
   "metadata": {},
   "outputs": [],
   "source": []
  },
  {
   "cell_type": "code",
   "execution_count": null,
   "id": "4a623afd",
   "metadata": {},
   "outputs": [],
   "source": []
  },
  {
   "cell_type": "code",
   "execution_count": null,
   "id": "8228f5b6",
   "metadata": {},
   "outputs": [],
   "source": []
  }
 ],
 "metadata": {
  "kernelspec": {
   "display_name": "Python 3",
   "language": "python",
   "name": "python3"
  },
  "language_info": {
   "codemirror_mode": {
    "name": "ipython",
    "version": 3
   },
   "file_extension": ".py",
   "mimetype": "text/x-python",
   "name": "python",
   "nbconvert_exporter": "python",
   "pygments_lexer": "ipython3",
   "version": "3.7.11"
  }
 },
 "nbformat": 4,
 "nbformat_minor": 5
}
