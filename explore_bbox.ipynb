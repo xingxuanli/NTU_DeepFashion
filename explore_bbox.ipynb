{
 "cells": [
  {
   "cell_type": "code",
   "execution_count": 1,
   "id": "e676e44e",
   "metadata": {},
   "outputs": [],
   "source": [
    "import cv2  # python-opencv\n",
    "import numpy as np\n",
    "import os"
   ]
  },
  {
   "cell_type": "code",
   "execution_count": 2,
   "id": "56f9bb0e",
   "metadata": {},
   "outputs": [],
   "source": [
    "img_path='FashionDataset/'\n",
    "split_path='FashionDataset/split/'"
   ]
  },
  {
   "cell_type": "code",
   "execution_count": 3,
   "id": "8a9995e5",
   "metadata": {},
   "outputs": [],
   "source": [
    "X_path = os.path.join(split_path, 'train.txt')\n",
    "X_files = open(X_path).read().split('\\n')\n",
    "images = [os.path.join(img_path, x) for x in X_files]"
   ]
  },
  {
   "cell_type": "code",
   "execution_count": 4,
   "id": "53f535af",
   "metadata": {},
   "outputs": [],
   "source": [
    "bbox_path = os.path.join(split_path, 'train_bbox.txt')\n",
    "bbox_files = open(bbox_path).read().split('\\n')[:-1]\n",
    "bboxs = [[int(y) for y in x.split(' ')] for x in bbox_files]"
   ]
  },
  {
   "cell_type": "code",
   "execution_count": 5,
   "id": "31bc4e60",
   "metadata": {},
   "outputs": [],
   "source": [
    "landmark_path = os.path.join(split_path, 'train_landmards.txt')\n",
    "landmark_files = open(landmark_path).read().split('\\n')[:-1]\n",
    "landmarks = [[int(y) for y in x.split(' ')] for x in landmark_files]"
   ]
  },
  {
   "cell_type": "code",
   "execution_count": null,
   "id": "6e38e8ef",
   "metadata": {},
   "outputs": [],
   "source": []
  },
  {
   "cell_type": "code",
   "execution_count": null,
   "id": "5d305a99",
   "metadata": {},
   "outputs": [
    {
     "name": "stdout",
     "output_type": "stream",
     "text": [
      "[1, 32, 199, 300]\n"
     ]
    }
   ],
   "source": [
    "i = 3\n",
    "print(bboxs[i])\n",
    "ulx = bboxs[i][0]\n",
    "uly = bboxs[i][1]\n",
    "\n",
    "lrx = bboxs[i][2]\n",
    "lry = bboxs[i][3]\n",
    "\n",
    "img = cv2.imread(images[i])\n",
    "thickness = 2\n",
    "img = cv2.rectangle(img, (ulx, uly), (lrx, lry), (0, 0, 0), thickness)\n",
    "\n",
    "for j in range(8):\n",
    "    img = cv2.circle(img, (landmarks[i][j*2], landmarks[i][j*2+1]), radius=5, color=(0,0,255), thickness=thickness)\n",
    "\n",
    "\n",
    "cv2.imshow('Image', img)\n",
    "cv2.waitKey(0)\n",
    "cv2.destroyAllWindows()"
   ]
  },
  {
   "cell_type": "code",
   "execution_count": null,
   "id": "5b5d8574",
   "metadata": {},
   "outputs": [],
   "source": [
    "# width, height = 800, 600\n",
    "# x1, y1 = 0, 0\n",
    "# x2, y2 = 200, 400\n",
    "# image = np.ones((height, width)) * 255\n",
    "\n",
    "# line_thickness = 2\n",
    "# cv2.line(image, (x1, y1), (x2, y2), (0, 255, 0), thickness=line_thickness)"
   ]
  },
  {
   "cell_type": "code",
   "execution_count": null,
   "id": "cae7ecfe",
   "metadata": {},
   "outputs": [],
   "source": [
    "# bboxs[0]"
   ]
  },
  {
   "cell_type": "code",
   "execution_count": null,
   "id": "807e791d",
   "metadata": {},
   "outputs": [],
   "source": []
  }
 ],
 "metadata": {
  "kernelspec": {
   "display_name": "Python 3",
   "language": "python",
   "name": "python3"
  },
  "language_info": {
   "codemirror_mode": {
    "name": "ipython",
    "version": 3
   },
   "file_extension": ".py",
   "mimetype": "text/x-python",
   "name": "python",
   "nbconvert_exporter": "python",
   "pygments_lexer": "ipython3",
   "version": "3.7.10"
  }
 },
 "nbformat": 4,
 "nbformat_minor": 5
}
